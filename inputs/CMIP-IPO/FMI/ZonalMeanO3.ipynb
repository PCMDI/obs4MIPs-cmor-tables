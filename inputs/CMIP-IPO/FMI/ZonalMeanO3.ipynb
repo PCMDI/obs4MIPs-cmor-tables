{
 "cells": [
  {
   "cell_type": "markdown",
   "id": "4e9b0410-501f-4392-8dd8-3868e4626552",
   "metadata": {},
   "source": [
    "### Notebook to test the new demo file for zonal mean datasets. "
   ]
  },
  {
   "cell_type": "markdown",
   "id": "5ca28543-6945-4c9b-90b6-056b2806dfb0",
   "metadata": {},
   "source": [
    "This is a test for obs4mIPs proposal #49 'Mole Fraction of O3-satellite(merged). The original dataset can be found here"
   ]
  },
  {
   "cell_type": "code",
   "execution_count": 1,
   "id": "75071bc6-abe5-405e-a098-343b9051a460",
   "metadata": {},
   "outputs": [],
   "source": [
    "# CMOR demo https://github.com/PCMDI/obs4MIPs-cmor-tables/tree/master/demo/demo-zonalmeans/runCMORdemo_zonalmean.py\n",
    "# Test notebook to sese if the demo file can be processed on Mac offline using Jupyter environ.\n",
    "# Input file pths, .jsons and tables defined for local machine\n",
    "\n",
    "# import common libraries \n",
    "\n",
    "import cmor\n",
    "import xarray as xr\n",
    "import xcdat as xc\n",
    "import numpy as np\n",
    "import json\n",
    "import sys,os\n",
    "\n",
    "sys.path.append(\"/Users/paul.smith/obs4MIPs-cmor-tables/inputs/misc\") # Path to obs4MIPsLib used to trap provenance\n",
    "import obs4MIPsLib\n",
    "\n",
    "cmorTable = '/Users/paul.smith/obs4MIPs-cmor-tables/Tables/obs4MIPs_Amon.json' ; # Aday,Amon,Lmon,Omon,SImon,fx,monNobs,monStderr - Load target table, axis info (coordinates, grid*) and CVs\n",
    "inputJson = '/Users/paul.smith/obs4MIPs-cmor-tables/demo/demo-zonalmeans/zonalmean-demo_input.json' ; # Update contents of this file to set your global_attributes\n",
    "inputFilePath = '/Users/paul.smith/obs4MIPs-cmor-tables/demo/demo-zonalmeans/BSVerticalOzone_MR_GPH_Tier1.3_v1.0.nc'\n",
    "inputVarName = 'O3'\n",
    "outputVarName = 'o3zm'\n",
    "outputUnits = 'mol mol-1'"
   ]
  },
  {
   "cell_type": "code",
   "execution_count": 2,
   "id": "d2da07b7-7a16-4fb5-a9c3-162dd877367b",
   "metadata": {},
   "outputs": [],
   "source": [
    "# Open and read input netcdf file, get coordinates and add bounds\n",
    "f = xc.open_dataset(inputFilePath,decode_times=False)\n",
    "d = f[inputVarName]\n",
    "lat = f.latitude.values\n",
    "lev = f.altitude.values\n",
    "time = f.time.values  \n",
    "f = f.bounds.add_missing_bounds(axes=['Y'])\n",
    "f = f.bounds.add_bounds(\"T\")\n",
    "tbds = f.time_bnds.values\n",
    "\n",
    "d = np.where(np.isnan(d),1.e20,d)"
   ]
  },
  {
   "cell_type": "code",
   "execution_count": 3,
   "id": "9488c95f-4eaf-4c7a-b18c-fc096aaedb2e",
   "metadata": {},
   "outputs": [
    {
     "data": {
      "text/plain": [
       "0"
      ]
     },
     "execution_count": 3,
     "metadata": {},
     "output_type": "execute_result"
    }
   ],
   "source": [
    "# Initialize and run CMOR. For more information see https://cmor.llnl.gov/mydoc_cmor3_api/\n",
    "cmor.setup(inpath='./',netcdf_file_action=cmor.CMOR_REPLACE_4,logfile='cmorLog.txt')\n",
    "cmor.dataset_json(inputJson)\n",
    "cmor.load_table(cmorTable)"
   ]
  },
  {
   "cell_type": "code",
   "execution_count": 4,
   "id": "56332d47-5c4a-4793-8e0d-cc87ea84cfc8",
   "metadata": {},
   "outputs": [],
   "source": [
    "# Create CMOR axes\n",
    "cmorLat = cmor.axis(\"latitude\", coord_vals=lat[:], cell_bounds=f.latitude_bnds.values, units=\"degrees_north\")\n",
    "cmorLev = cmor.axis(\"height\", coord_vals=lev[:]*1000., units=\"m\")\n",
    "cmorTime = cmor.axis(\"time\", coord_vals=time[:], cell_bounds=tbds, units= f.time.units)\n",
    "cmoraxes = [cmorTime,cmorLev,cmorLat]"
   ]
  },
  {
   "cell_type": "code",
   "execution_count": 5,
   "id": "e49aa4b8-dc52-4218-a5ba-4a2e8641d46e",
   "metadata": {},
   "outputs": [],
   "source": [
    "# Setup units and create variable to write using cmor - see https://cmor.llnl.gov/mydoc_cmor3_api/#cmor_set_variable_attribute\n",
    "varid   = cmor.variable(outputVarName,outputUnits,cmoraxes,missing_value=1.e20)\n",
    "values  = np.array(d,np.float32)[:]"
   ]
  },
  {
   "cell_type": "code",
   "execution_count": 6,
   "id": "c88afd5d-e1a7-4a42-9592-aac90c5b618a",
   "metadata": {},
   "outputs": [
    {
     "data": {
      "text/plain": [
       "0"
      ]
     },
     "execution_count": 6,
     "metadata": {},
     "output_type": "execute_result"
    }
   ],
   "source": [
    "# Append valid_min and valid_max to variable before writing using cmor - see https://cmor.llnl.gov/mydoc_cmor3_api/#cmor_set_variable_attribute\n",
    "cmor.set_variable_attribute(varid,'valid_min','f',2.0)\n",
    "cmor.set_variable_attribute(varid,'valid_max','f',3.0)"
   ]
  },
  {
   "cell_type": "code",
   "execution_count": 7,
   "id": "bd4d4e01-9505-47e5-82f3-193fea940da5",
   "metadata": {},
   "outputs": [
    {
     "data": {
      "text/plain": [
       "0"
      ]
     },
     "execution_count": 7,
     "metadata": {},
     "output_type": "execute_result"
    }
   ],
   "source": [
    "# Provenance info - produces global attribute <obs4MIPs_GH_Commit_ID> \n",
    "gitinfo = obs4MIPsLib.ProvenanceInfo(obs4MIPsLib.getGitInfo(\"./\"))\n",
    "full_git_path = f\"https://github.com/PCMDI/obs4MIPs-cmor-tables/tree/{gitinfo['commit_number']}/demo\"  \n",
    "cmor.set_cur_dataset_attribute(\"processing_code_location\",f\"{full_git_path}\")"
   ]
  },
  {
   "cell_type": "code",
   "execution_count": 8,
   "id": "e2c2390d-6534-499a-b47f-1a04fd4c5799",
   "metadata": {},
   "outputs": [
    {
     "name": "stderr",
     "output_type": "stream",
     "text": [
      "/opt/miniconda3/lib/python3.12/site-packages/cmor/pywrapper.py:759: UserWarning: Error: your data shape ((456, 36, 70)) does not match the expected variable shape ([0, 70, 36])\n",
      "Check your variable dimensions before caling cmor_write\n",
      "  warnings.warn(msg)\n"
     ]
    }
   ],
   "source": [
    "# Prepare variable for writing, then write and close file - see https://cmor.llnl.gov/mydoc_cmor3_api/#cmor_set_variable_attribute\n",
    "cmor.set_deflate(varid,1,1,1) ; # shuffle=1,deflate=1,deflate_level=1 - Deflate options compress file data\n",
    "cmor.write(varid,d)  #,len(time)) \n",
    "cmor.close()\n",
    "f.close()"
   ]
  },
  {
   "cell_type": "code",
   "execution_count": null,
   "id": "694110a5-e15f-4d50-9de0-ad1ee243fade",
   "metadata": {},
   "outputs": [],
   "source": []
  }
 ],
 "metadata": {
  "kernelspec": {
   "display_name": "NERSC Python",
   "language": "python",
   "name": "python3"
  },
  "language_info": {
   "codemirror_mode": {
    "name": "ipython",
    "version": 3
   },
   "file_extension": ".py",
   "mimetype": "text/x-python",
   "name": "python",
   "nbconvert_exporter": "python",
   "pygments_lexer": "ipython3",
   "version": "3.11.7"
  }
 },
 "nbformat": 4,
 "nbformat_minor": 5
}
